{
 "cells": [
  {
   "cell_type": "markdown",
   "id": "a6f31ebc-f7ce-49b0-92db-78af188862da",
   "metadata": {},
   "source": [
    "# A Web Scrapping Project On GitHub Top Respositories"
   ]
  },
  {
   "cell_type": "code",
   "execution_count": 81,
   "id": "b3bb08d0-ed4a-4e8c-b139-4491eb92b126",
   "metadata": {},
   "outputs": [],
   "source": [
    "import pandas as pd\n",
    "import requests\n",
    "from bs4 import BeautifulSoup"
   ]
  },
  {
   "cell_type": "code",
   "execution_count": 82,
   "id": "28eba30b-3520-41c2-8ae1-eba5080d10fb",
   "metadata": {},
   "outputs": [],
   "source": [
    "url = \"https://github.com/topics\""
   ]
  },
  {
   "cell_type": "code",
   "execution_count": 83,
   "id": "fd4d6c9e-436f-4dcd-8f3f-d8eeb5fc37e6",
   "metadata": {},
   "outputs": [],
   "source": [
    "res = requests.get(url)"
   ]
  },
  {
   "cell_type": "code",
   "execution_count": 84,
   "id": "1610e40c-7e01-4f01-86c0-d0f5fd5c556b",
   "metadata": {},
   "outputs": [
    {
     "data": {
      "text/plain": [
       "200"
      ]
     },
     "execution_count": 84,
     "metadata": {},
     "output_type": "execute_result"
    }
   ],
   "source": [
    "res.status_code"
   ]
  },
  {
   "cell_type": "code",
   "execution_count": 85,
   "id": "bc029014-f4e2-4ffc-beb0-79f8ecdfc091",
   "metadata": {},
   "outputs": [],
   "source": [
    "content = res.text"
   ]
  },
  {
   "cell_type": "code",
   "execution_count": 86,
   "id": "7e26ccba-9a4e-4a94-b98b-dba8bbcd5e0f",
   "metadata": {},
   "outputs": [
    {
     "data": {
      "text/plain": [
       "'\\n\\n<!DOCTYPE html>\\n<html\\n  lang=\"en\"\\n  \\n  data-color-mode=\"auto\" data-light-theme=\"light\" data-dark-theme=\"dark\"\\n  data-a11y-animated-images=\"system\" data-a11y-link-underlines=\"true\"\\n  \\n  >\\n\\n\\n\\n  <head>\\n    <meta charset=\"utf-8\">\\n  <link rel=\"dns-prefetch\" href=\"https://github.githubassets.com\">\\n  <link rel=\"dns-prefetch\" href=\"https://avatars.githubusercontent.com\">\\n  <link rel=\"dns-prefetch\" href=\"https://github-cloud.s3.amazonaws.com\">\\n  <link rel=\"dns-prefetch\" href=\"https://user-images.githubusercontent.com/\">\\n  <link rel=\"preconnect\" href=\"https://github.githubassets.com\" crossorigin>\\n  <link rel=\"preconnect\" href=\"https://avatars.githubusercontent.com\">\\n\\n  \\n\\n  <link crossorigin=\"anonymous\" media=\"all\" rel=\"stylesheet\" href=\"https://github.githubassets.com/assets/light-605318cbe3a1.css\" /><link crossorigin=\"anonymous\" media=\"all\" rel=\"stylesheet\" href=\"https://github.githubassets.com/assets/dark-bd1cb5575fff.css\" /><link data-color-theme=\"dark_dimmed\" crossorigin=\"anonymous\" media='"
      ]
     },
     "execution_count": 86,
     "metadata": {},
     "output_type": "execute_result"
    }
   ],
   "source": [
    "content[:1000]"
   ]
  },
  {
   "cell_type": "code",
   "execution_count": 87,
   "id": "08239913-e5a8-4e80-b62d-94a5f3c33a69",
   "metadata": {},
   "outputs": [],
   "source": [
    "data = BeautifulSoup(content,\"html.parser\")"
   ]
  },
  {
   "cell_type": "code",
   "execution_count": 88,
   "id": "00a38a3d-08df-4c35-aad3-56fa24bf1546",
   "metadata": {},
   "outputs": [
    {
     "data": {
      "text/plain": [
       "5"
      ]
     },
     "execution_count": 88,
     "metadata": {},
     "output_type": "execute_result"
    }
   ],
   "source": [
    "len(data)"
   ]
  },
  {
   "cell_type": "code",
   "execution_count": 89,
   "id": "cd5c0e29-1d5a-43b6-9a9d-7e8d7fc31083",
   "metadata": {},
   "outputs": [
    {
     "data": {
      "text/plain": [
       "<a class=\"no-underline flex-1 d-flex flex-column\" href=\"/topics/3d\">\n",
       "<p class=\"f3 lh-condensed mb-0 mt-1 Link--primary\">3D</p>\n",
       "<p class=\"f5 color-fg-muted mb-0 mt-1\">\n",
       "          3D refers to the use of three-dimensional graphics, modeling, and animation in various industries.\n",
       "        </p>\n",
       "</a>"
      ]
     },
     "execution_count": 89,
     "metadata": {},
     "output_type": "execute_result"
    }
   ],
   "source": [
    "data.find('a',class_=\"no-underline flex-1 d-flex flex-column\")"
   ]
  },
  {
   "cell_type": "code",
   "execution_count": 90,
   "id": "d4abf0f0-f144-43d5-99d3-d6ee7aafaa83",
   "metadata": {},
   "outputs": [
    {
     "data": {
      "text/plain": [
       "'/topics/3d'"
      ]
     },
     "execution_count": 90,
     "metadata": {},
     "output_type": "execute_result"
    }
   ],
   "source": [
    "data.find('a',class_=\"no-underline flex-1 d-flex flex-column\")['href']"
   ]
  },
  {
   "cell_type": "code",
   "execution_count": 91,
   "id": "40d75494-960b-470a-aca0-cc328155f176",
   "metadata": {},
   "outputs": [
    {
     "data": {
      "text/plain": [
       "'3D'"
      ]
     },
     "execution_count": 91,
     "metadata": {},
     "output_type": "execute_result"
    }
   ],
   "source": [
    "data.find('a',class_=\"no-underline flex-1 d-flex flex-column\").find('p').text"
   ]
  },
  {
   "cell_type": "code",
   "execution_count": 92,
   "id": "7ae9811e-0ff4-4d26-9141-f3b176444c5f",
   "metadata": {},
   "outputs": [
    {
     "data": {
      "text/plain": [
       "'\\n          3D refers to the use of three-dimensional graphics, modeling, and animation in various industries.\\n        '"
      ]
     },
     "execution_count": 92,
     "metadata": {},
     "output_type": "execute_result"
    }
   ],
   "source": [
    "data.find('a',class_=\"no-underline flex-1 d-flex flex-column\").find_all('p')[1].text"
   ]
  },
  {
   "cell_type": "code",
   "execution_count": 93,
   "id": "f973b4a8-9436-4703-82ad-a74a76b74380",
   "metadata": {},
   "outputs": [],
   "source": [
    "topic = []\n",
    "desc = []\n",
    "link = []"
   ]
  },
  {
   "cell_type": "code",
   "execution_count": 94,
   "id": "0878a5dc-5328-4885-be64-1206e09b2f35",
   "metadata": {},
   "outputs": [],
   "source": [
    "for a in data.find_all('a',class_=\"no-underline flex-1 d-flex flex-column\"):\n",
    "    link.append(\"https://github.com\"+a['href'])\n",
    "    topic.append(a.find('p').text)\n",
    "    desc.append(a.find_all('p')[1].text)"
   ]
  },
  {
   "cell_type": "code",
   "execution_count": 95,
   "id": "015d4086-3689-4dab-ac08-40a7d901b15f",
   "metadata": {},
   "outputs": [
    {
     "data": {
      "text/plain": [
       "(30, 30, 30)"
      ]
     },
     "execution_count": 95,
     "metadata": {},
     "output_type": "execute_result"
    }
   ],
   "source": [
    "len(topic), len(desc), len(link)"
   ]
  },
  {
   "cell_type": "code",
   "execution_count": 96,
   "id": "2d4e7bb1-1482-478c-8b5e-c4a5d0faff3d",
   "metadata": {},
   "outputs": [],
   "source": [
    "ds = {\n",
    "    \"GitHub_Topics\":topic,\n",
    "    \"Topic_Desc\":desc,\n",
    "    \"Topic_Link\":link\n",
    "}"
   ]
  },
  {
   "cell_type": "code",
   "execution_count": 97,
   "id": "02d7ad57-ed15-4a3c-b825-33ad1f07fba0",
   "metadata": {},
   "outputs": [],
   "source": [
    "df1 = pd.DataFrame(ds)"
   ]
  },
  {
   "cell_type": "code",
   "execution_count": 98,
   "id": "f6d1483c-4530-4f82-8c2a-6cedead232c8",
   "metadata": {},
   "outputs": [
    {
     "data": {
      "text/html": [
       "<div>\n",
       "<style scoped>\n",
       "    .dataframe tbody tr th:only-of-type {\n",
       "        vertical-align: middle;\n",
       "    }\n",
       "\n",
       "    .dataframe tbody tr th {\n",
       "        vertical-align: top;\n",
       "    }\n",
       "\n",
       "    .dataframe thead th {\n",
       "        text-align: right;\n",
       "    }\n",
       "</style>\n",
       "<table border=\"1\" class=\"dataframe\">\n",
       "  <thead>\n",
       "    <tr style=\"text-align: right;\">\n",
       "      <th></th>\n",
       "      <th>GitHub_Topics</th>\n",
       "      <th>Topic_Desc</th>\n",
       "      <th>Topic_Link</th>\n",
       "    </tr>\n",
       "  </thead>\n",
       "  <tbody>\n",
       "    <tr>\n",
       "      <th>0</th>\n",
       "      <td>3D</td>\n",
       "      <td>\\n          3D refers to the use of three-dime...</td>\n",
       "      <td>https://github.com/topics/3d</td>\n",
       "    </tr>\n",
       "    <tr>\n",
       "      <th>1</th>\n",
       "      <td>Ajax</td>\n",
       "      <td>\\n          Ajax is a technique for creating i...</td>\n",
       "      <td>https://github.com/topics/ajax</td>\n",
       "    </tr>\n",
       "    <tr>\n",
       "      <th>2</th>\n",
       "      <td>Algorithm</td>\n",
       "      <td>\\n          Algorithms are self-contained sequ...</td>\n",
       "      <td>https://github.com/topics/algorithm</td>\n",
       "    </tr>\n",
       "    <tr>\n",
       "      <th>3</th>\n",
       "      <td>Amp</td>\n",
       "      <td>\\n          Amp is a non-blocking concurrency ...</td>\n",
       "      <td>https://github.com/topics/amphp</td>\n",
       "    </tr>\n",
       "    <tr>\n",
       "      <th>4</th>\n",
       "      <td>Android</td>\n",
       "      <td>\\n          Android is an operating system bui...</td>\n",
       "      <td>https://github.com/topics/android</td>\n",
       "    </tr>\n",
       "    <tr>\n",
       "      <th>5</th>\n",
       "      <td>Angular</td>\n",
       "      <td>\\n          Angular is an open source web appl...</td>\n",
       "      <td>https://github.com/topics/angular</td>\n",
       "    </tr>\n",
       "    <tr>\n",
       "      <th>6</th>\n",
       "      <td>Ansible</td>\n",
       "      <td>\\n          Ansible is a simple and powerful a...</td>\n",
       "      <td>https://github.com/topics/ansible</td>\n",
       "    </tr>\n",
       "    <tr>\n",
       "      <th>7</th>\n",
       "      <td>API</td>\n",
       "      <td>\\n          An API (Application Programming In...</td>\n",
       "      <td>https://github.com/topics/api</td>\n",
       "    </tr>\n",
       "    <tr>\n",
       "      <th>8</th>\n",
       "      <td>Arduino</td>\n",
       "      <td>\\n          Arduino is an open source platform...</td>\n",
       "      <td>https://github.com/topics/arduino</td>\n",
       "    </tr>\n",
       "    <tr>\n",
       "      <th>9</th>\n",
       "      <td>ASP.NET</td>\n",
       "      <td>\\n          ASP.NET is a web framework for bui...</td>\n",
       "      <td>https://github.com/topics/aspnet</td>\n",
       "    </tr>\n",
       "    <tr>\n",
       "      <th>10</th>\n",
       "      <td>Awesome Lists</td>\n",
       "      <td>\\n          An awesome list is a list of aweso...</td>\n",
       "      <td>https://github.com/topics/awesome</td>\n",
       "    </tr>\n",
       "    <tr>\n",
       "      <th>11</th>\n",
       "      <td>Amazon Web Services</td>\n",
       "      <td>\\n          Amazon Web Services provides on-de...</td>\n",
       "      <td>https://github.com/topics/aws</td>\n",
       "    </tr>\n",
       "    <tr>\n",
       "      <th>12</th>\n",
       "      <td>Azure</td>\n",
       "      <td>\\n          Azure is a cloud computing service...</td>\n",
       "      <td>https://github.com/topics/azure</td>\n",
       "    </tr>\n",
       "    <tr>\n",
       "      <th>13</th>\n",
       "      <td>Babel</td>\n",
       "      <td>\\n          Babel is a compiler for writing ne...</td>\n",
       "      <td>https://github.com/topics/babel</td>\n",
       "    </tr>\n",
       "    <tr>\n",
       "      <th>14</th>\n",
       "      <td>Bash</td>\n",
       "      <td>\\n          Bash is a shell and command langua...</td>\n",
       "      <td>https://github.com/topics/bash</td>\n",
       "    </tr>\n",
       "    <tr>\n",
       "      <th>15</th>\n",
       "      <td>Bitcoin</td>\n",
       "      <td>\\n          Bitcoin is a cryptocurrency develo...</td>\n",
       "      <td>https://github.com/topics/bitcoin</td>\n",
       "    </tr>\n",
       "    <tr>\n",
       "      <th>16</th>\n",
       "      <td>Bootstrap</td>\n",
       "      <td>\\n          Bootstrap is an HTML, CSS, and Jav...</td>\n",
       "      <td>https://github.com/topics/bootstrap</td>\n",
       "    </tr>\n",
       "    <tr>\n",
       "      <th>17</th>\n",
       "      <td>Bot</td>\n",
       "      <td>\\n          A bot is an application that runs ...</td>\n",
       "      <td>https://github.com/topics/bot</td>\n",
       "    </tr>\n",
       "    <tr>\n",
       "      <th>18</th>\n",
       "      <td>C</td>\n",
       "      <td>\\n          C is a general purpose programming...</td>\n",
       "      <td>https://github.com/topics/c</td>\n",
       "    </tr>\n",
       "    <tr>\n",
       "      <th>19</th>\n",
       "      <td>Chrome</td>\n",
       "      <td>\\n          Chrome is a web browser from the t...</td>\n",
       "      <td>https://github.com/topics/chrome</td>\n",
       "    </tr>\n",
       "    <tr>\n",
       "      <th>20</th>\n",
       "      <td>Chrome extension</td>\n",
       "      <td>\\n          Chrome extensions enable users to ...</td>\n",
       "      <td>https://github.com/topics/chrome-extension</td>\n",
       "    </tr>\n",
       "    <tr>\n",
       "      <th>21</th>\n",
       "      <td>Command-line interface</td>\n",
       "      <td>\\n          A CLI, or command-line interface, ...</td>\n",
       "      <td>https://github.com/topics/cli</td>\n",
       "    </tr>\n",
       "    <tr>\n",
       "      <th>22</th>\n",
       "      <td>Clojure</td>\n",
       "      <td>\\n          Clojure is a dynamic, general-purp...</td>\n",
       "      <td>https://github.com/topics/clojure</td>\n",
       "    </tr>\n",
       "    <tr>\n",
       "      <th>23</th>\n",
       "      <td>Code quality</td>\n",
       "      <td>\\n          Automate your code review with sty...</td>\n",
       "      <td>https://github.com/topics/code-quality</td>\n",
       "    </tr>\n",
       "    <tr>\n",
       "      <th>24</th>\n",
       "      <td>Code review</td>\n",
       "      <td>\\n          Ensure your code meets quality sta...</td>\n",
       "      <td>https://github.com/topics/code-review</td>\n",
       "    </tr>\n",
       "    <tr>\n",
       "      <th>25</th>\n",
       "      <td>Compiler</td>\n",
       "      <td>\\n          Compilers are software that transl...</td>\n",
       "      <td>https://github.com/topics/compiler</td>\n",
       "    </tr>\n",
       "    <tr>\n",
       "      <th>26</th>\n",
       "      <td>Continuous integration</td>\n",
       "      <td>\\n          Automatically build and test your ...</td>\n",
       "      <td>https://github.com/topics/continuous-integration</td>\n",
       "    </tr>\n",
       "    <tr>\n",
       "      <th>27</th>\n",
       "      <td>C++</td>\n",
       "      <td>\\n          C++ is a general purpose and objec...</td>\n",
       "      <td>https://github.com/topics/cpp</td>\n",
       "    </tr>\n",
       "    <tr>\n",
       "      <th>28</th>\n",
       "      <td>Cryptocurrency</td>\n",
       "      <td>\\n          A cryptocurrency is a digital curr...</td>\n",
       "      <td>https://github.com/topics/cryptocurrency</td>\n",
       "    </tr>\n",
       "    <tr>\n",
       "      <th>29</th>\n",
       "      <td>Crystal</td>\n",
       "      <td>\\n          Crystal is a self-hosted, general ...</td>\n",
       "      <td>https://github.com/topics/crystal</td>\n",
       "    </tr>\n",
       "  </tbody>\n",
       "</table>\n",
       "</div>"
      ],
      "text/plain": [
       "             GitHub_Topics                                         Topic_Desc  \\\n",
       "0                       3D  \\n          3D refers to the use of three-dime...   \n",
       "1                     Ajax  \\n          Ajax is a technique for creating i...   \n",
       "2                Algorithm  \\n          Algorithms are self-contained sequ...   \n",
       "3                      Amp  \\n          Amp is a non-blocking concurrency ...   \n",
       "4                  Android  \\n          Android is an operating system bui...   \n",
       "5                  Angular  \\n          Angular is an open source web appl...   \n",
       "6                  Ansible  \\n          Ansible is a simple and powerful a...   \n",
       "7                      API  \\n          An API (Application Programming In...   \n",
       "8                  Arduino  \\n          Arduino is an open source platform...   \n",
       "9                  ASP.NET  \\n          ASP.NET is a web framework for bui...   \n",
       "10           Awesome Lists  \\n          An awesome list is a list of aweso...   \n",
       "11     Amazon Web Services  \\n          Amazon Web Services provides on-de...   \n",
       "12                   Azure  \\n          Azure is a cloud computing service...   \n",
       "13                   Babel  \\n          Babel is a compiler for writing ne...   \n",
       "14                    Bash  \\n          Bash is a shell and command langua...   \n",
       "15                 Bitcoin  \\n          Bitcoin is a cryptocurrency develo...   \n",
       "16               Bootstrap  \\n          Bootstrap is an HTML, CSS, and Jav...   \n",
       "17                     Bot  \\n          A bot is an application that runs ...   \n",
       "18                       C  \\n          C is a general purpose programming...   \n",
       "19                  Chrome  \\n          Chrome is a web browser from the t...   \n",
       "20        Chrome extension  \\n          Chrome extensions enable users to ...   \n",
       "21  Command-line interface  \\n          A CLI, or command-line interface, ...   \n",
       "22                 Clojure  \\n          Clojure is a dynamic, general-purp...   \n",
       "23            Code quality  \\n          Automate your code review with sty...   \n",
       "24             Code review  \\n          Ensure your code meets quality sta...   \n",
       "25                Compiler  \\n          Compilers are software that transl...   \n",
       "26  Continuous integration  \\n          Automatically build and test your ...   \n",
       "27                     C++  \\n          C++ is a general purpose and objec...   \n",
       "28          Cryptocurrency  \\n          A cryptocurrency is a digital curr...   \n",
       "29                 Crystal  \\n          Crystal is a self-hosted, general ...   \n",
       "\n",
       "                                          Topic_Link  \n",
       "0                       https://github.com/topics/3d  \n",
       "1                     https://github.com/topics/ajax  \n",
       "2                https://github.com/topics/algorithm  \n",
       "3                    https://github.com/topics/amphp  \n",
       "4                  https://github.com/topics/android  \n",
       "5                  https://github.com/topics/angular  \n",
       "6                  https://github.com/topics/ansible  \n",
       "7                      https://github.com/topics/api  \n",
       "8                  https://github.com/topics/arduino  \n",
       "9                   https://github.com/topics/aspnet  \n",
       "10                 https://github.com/topics/awesome  \n",
       "11                     https://github.com/topics/aws  \n",
       "12                   https://github.com/topics/azure  \n",
       "13                   https://github.com/topics/babel  \n",
       "14                    https://github.com/topics/bash  \n",
       "15                 https://github.com/topics/bitcoin  \n",
       "16               https://github.com/topics/bootstrap  \n",
       "17                     https://github.com/topics/bot  \n",
       "18                       https://github.com/topics/c  \n",
       "19                  https://github.com/topics/chrome  \n",
       "20        https://github.com/topics/chrome-extension  \n",
       "21                     https://github.com/topics/cli  \n",
       "22                 https://github.com/topics/clojure  \n",
       "23            https://github.com/topics/code-quality  \n",
       "24             https://github.com/topics/code-review  \n",
       "25                https://github.com/topics/compiler  \n",
       "26  https://github.com/topics/continuous-integration  \n",
       "27                     https://github.com/topics/cpp  \n",
       "28          https://github.com/topics/cryptocurrency  \n",
       "29                 https://github.com/topics/crystal  "
      ]
     },
     "execution_count": 98,
     "metadata": {},
     "output_type": "execute_result"
    }
   ],
   "source": [
    "df1"
   ]
  },
  {
   "cell_type": "code",
   "execution_count": 99,
   "id": "c0219716-c95a-47a3-98ff-24683ce0afe4",
   "metadata": {},
   "outputs": [],
   "source": [
    "df1.to_csv('Github_Topics.csv')"
   ]
  },
  {
   "cell_type": "code",
   "execution_count": 100,
   "id": "df6cec5b-a4bb-4564-bd89-04c4e548e4cd",
   "metadata": {},
   "outputs": [
    {
     "data": {
      "text/plain": [
       "0                         https://github.com/topics/3d\n",
       "1                       https://github.com/topics/ajax\n",
       "2                  https://github.com/topics/algorithm\n",
       "3                      https://github.com/topics/amphp\n",
       "4                    https://github.com/topics/android\n",
       "5                    https://github.com/topics/angular\n",
       "6                    https://github.com/topics/ansible\n",
       "7                        https://github.com/topics/api\n",
       "8                    https://github.com/topics/arduino\n",
       "9                     https://github.com/topics/aspnet\n",
       "10                   https://github.com/topics/awesome\n",
       "11                       https://github.com/topics/aws\n",
       "12                     https://github.com/topics/azure\n",
       "13                     https://github.com/topics/babel\n",
       "14                      https://github.com/topics/bash\n",
       "15                   https://github.com/topics/bitcoin\n",
       "16                 https://github.com/topics/bootstrap\n",
       "17                       https://github.com/topics/bot\n",
       "18                         https://github.com/topics/c\n",
       "19                    https://github.com/topics/chrome\n",
       "20          https://github.com/topics/chrome-extension\n",
       "21                       https://github.com/topics/cli\n",
       "22                   https://github.com/topics/clojure\n",
       "23              https://github.com/topics/code-quality\n",
       "24               https://github.com/topics/code-review\n",
       "25                  https://github.com/topics/compiler\n",
       "26    https://github.com/topics/continuous-integration\n",
       "27                       https://github.com/topics/cpp\n",
       "28            https://github.com/topics/cryptocurrency\n",
       "29                   https://github.com/topics/crystal\n",
       "Name: Topic_Link, dtype: object"
      ]
     },
     "execution_count": 100,
     "metadata": {},
     "output_type": "execute_result"
    }
   ],
   "source": [
    "df1['Topic_Link']"
   ]
  },
  {
   "cell_type": "code",
   "execution_count": 101,
   "id": "4197b6fc-47bf-4f57-82a0-dcc131eecfba",
   "metadata": {},
   "outputs": [],
   "source": [
    "user = []\n",
    "repo = []\n",
    "repolink = []\n",
    "star = []"
   ]
  },
  {
   "cell_type": "code",
   "execution_count": 102,
   "id": "938b12d2-077a-4cfd-b797-1c4d3075a84c",
   "metadata": {},
   "outputs": [],
   "source": [
    "for url in df1['Topic_Link']:\n",
    "    data = BeautifulSoup(requests.get(url).content,'html.parser')\n",
    "    for a in data.find_all('div',class_=\"d-flex flex-justify-between flex-items-start flex-wrap gap-2 my-3\"):\n",
    "        u = a.find('a').text\n",
    "        user.append(u)\n",
    "        r = a.find_all('a')[1].text\n",
    "        repo.append(r)\n",
    "        repolink.append(\"https://github.com/\"+u+\"/\"+r)\n",
    "        star.append(a.find('span',class_=\"Counter js-social-count\")['title'])"
   ]
  },
  {
   "cell_type": "code",
   "execution_count": 104,
   "id": "8802ce4f-b3d0-49cc-a24d-3f2d3e4661eb",
   "metadata": {},
   "outputs": [
    {
     "data": {
      "text/plain": [
       "(600, 600, 600, 600)"
      ]
     },
     "execution_count": 104,
     "metadata": {},
     "output_type": "execute_result"
    }
   ],
   "source": [
    "len(user), len(repo), len(repolink), len(star)"
   ]
  },
  {
   "cell_type": "code",
   "execution_count": 105,
   "id": "8d0f9931-88ff-4b0a-924c-7082cdcdf3ae",
   "metadata": {},
   "outputs": [],
   "source": [
    "ds = {\n",
    "    \"UserName\" : user,\n",
    "    \"Repo_Name\" : repo,\n",
    "    \"Repo_Link\" : repolink,\n",
    "    \"Stars\" : star\n",
    "}"
   ]
  },
  {
   "cell_type": "code",
   "execution_count": 106,
   "id": "fbfa2f84-d0a8-4de0-a1ec-c12693d009b5",
   "metadata": {},
   "outputs": [],
   "source": [
    "df2 = pd.DataFrame(ds)"
   ]
  },
  {
   "cell_type": "code",
   "execution_count": 109,
   "id": "d55e1e54-a667-4c2e-972c-1130b42c225e",
   "metadata": {},
   "outputs": [
    {
     "data": {
      "text/html": [
       "<div>\n",
       "<style scoped>\n",
       "    .dataframe tbody tr th:only-of-type {\n",
       "        vertical-align: middle;\n",
       "    }\n",
       "\n",
       "    .dataframe tbody tr th {\n",
       "        vertical-align: top;\n",
       "    }\n",
       "\n",
       "    .dataframe thead th {\n",
       "        text-align: right;\n",
       "    }\n",
       "</style>\n",
       "<table border=\"1\" class=\"dataframe\">\n",
       "  <thead>\n",
       "    <tr style=\"text-align: right;\">\n",
       "      <th></th>\n",
       "      <th>UserName</th>\n",
       "      <th>Repo_Name</th>\n",
       "      <th>Repo_Link</th>\n",
       "      <th>Stars</th>\n",
       "    </tr>\n",
       "  </thead>\n",
       "  <tbody>\n",
       "    <tr>\n",
       "      <th>0</th>\n",
       "      <td>mrdoob</td>\n",
       "      <td>three.js</td>\n",
       "      <td>https://github.com/mrdoob/three.js</td>\n",
       "      <td>104,806</td>\n",
       "    </tr>\n",
       "    <tr>\n",
       "      <th>1</th>\n",
       "      <td>pmndrs</td>\n",
       "      <td>react-three-fiber</td>\n",
       "      <td>https://github.com/pmndrs/react-three-fiber</td>\n",
       "      <td>28,328</td>\n",
       "    </tr>\n",
       "    <tr>\n",
       "      <th>2</th>\n",
       "      <td>libgdx</td>\n",
       "      <td>libgdx</td>\n",
       "      <td>https://github.com/libgdx/libgdx</td>\n",
       "      <td>23,806</td>\n",
       "    </tr>\n",
       "    <tr>\n",
       "      <th>3</th>\n",
       "      <td>BabylonJS</td>\n",
       "      <td>Babylon.js</td>\n",
       "      <td>https://github.com/BabylonJS/Babylon.js</td>\n",
       "      <td>23,712</td>\n",
       "    </tr>\n",
       "    <tr>\n",
       "      <th>4</th>\n",
       "      <td>FreeCAD</td>\n",
       "      <td>FreeCAD</td>\n",
       "      <td>https://github.com/FreeCAD/FreeCAD</td>\n",
       "      <td>23,400</td>\n",
       "    </tr>\n",
       "    <tr>\n",
       "      <th>5</th>\n",
       "      <td>ssloy</td>\n",
       "      <td>tinyrenderer</td>\n",
       "      <td>https://github.com/ssloy/tinyrenderer</td>\n",
       "      <td>21,417</td>\n",
       "    </tr>\n",
       "    <tr>\n",
       "      <th>6</th>\n",
       "      <td>lettier</td>\n",
       "      <td>3d-game-shaders-for-beginners</td>\n",
       "      <td>https://github.com/lettier/3d-game-shaders-for...</td>\n",
       "      <td>18,434</td>\n",
       "    </tr>\n",
       "    <tr>\n",
       "      <th>7</th>\n",
       "      <td>aframevr</td>\n",
       "      <td>aframe</td>\n",
       "      <td>https://github.com/aframevr/aframe</td>\n",
       "      <td>16,926</td>\n",
       "    </tr>\n",
       "    <tr>\n",
       "      <th>8</th>\n",
       "      <td>blender</td>\n",
       "      <td>blender</td>\n",
       "      <td>https://github.com/blender/blender</td>\n",
       "      <td>14,425</td>\n",
       "    </tr>\n",
       "    <tr>\n",
       "      <th>9</th>\n",
       "      <td>CesiumGS</td>\n",
       "      <td>cesium</td>\n",
       "      <td>https://github.com/CesiumGS/cesium</td>\n",
       "      <td>13,388</td>\n",
       "    </tr>\n",
       "  </tbody>\n",
       "</table>\n",
       "</div>"
      ],
      "text/plain": [
       "    UserName                      Repo_Name  \\\n",
       "0     mrdoob                       three.js   \n",
       "1     pmndrs              react-three-fiber   \n",
       "2     libgdx                         libgdx   \n",
       "3  BabylonJS                     Babylon.js   \n",
       "4    FreeCAD                        FreeCAD   \n",
       "5      ssloy                   tinyrenderer   \n",
       "6    lettier  3d-game-shaders-for-beginners   \n",
       "7   aframevr                         aframe   \n",
       "8    blender                        blender   \n",
       "9   CesiumGS                         cesium   \n",
       "\n",
       "                                           Repo_Link    Stars  \n",
       "0                 https://github.com/mrdoob/three.js  104,806  \n",
       "1        https://github.com/pmndrs/react-three-fiber   28,328  \n",
       "2                   https://github.com/libgdx/libgdx   23,806  \n",
       "3            https://github.com/BabylonJS/Babylon.js   23,712  \n",
       "4                 https://github.com/FreeCAD/FreeCAD   23,400  \n",
       "5              https://github.com/ssloy/tinyrenderer   21,417  \n",
       "6  https://github.com/lettier/3d-game-shaders-for...   18,434  \n",
       "7                 https://github.com/aframevr/aframe   16,926  \n",
       "8                 https://github.com/blender/blender   14,425  \n",
       "9                 https://github.com/CesiumGS/cesium   13,388  "
      ]
     },
     "execution_count": 109,
     "metadata": {},
     "output_type": "execute_result"
    }
   ],
   "source": [
    "df2.head(10)"
   ]
  },
  {
   "cell_type": "code",
   "execution_count": 110,
   "id": "e30c606d-0359-462a-8c6b-6adefc7b377e",
   "metadata": {},
   "outputs": [
    {
     "data": {
      "text/plain": [
       "0               https://github.com/mrdoob/three.js\n",
       "1      https://github.com/pmndrs/react-three-fiber\n",
       "2                 https://github.com/libgdx/libgdx\n",
       "3          https://github.com/BabylonJS/Babylon.js\n",
       "4               https://github.com/FreeCAD/FreeCAD\n",
       "                          ...                     \n",
       "595             https://github.com/will/crystal-pg\n",
       "596         https://github.com/elbywan/crystalline\n",
       "597      https://github.com/martenframework/marten\n",
       "598        https://github.com/imdrasil/jennifer.cr\n",
       "599     https://github.com/vim-crystal/vim-crystal\n",
       "Name: Repo_Link, Length: 600, dtype: object"
      ]
     },
     "execution_count": 110,
     "metadata": {},
     "output_type": "execute_result"
    }
   ],
   "source": [
    "df2['Repo_Link']"
   ]
  },
  {
   "cell_type": "code",
   "execution_count": 111,
   "id": "eb93edb7-8285-4413-976d-9c827f0158fe",
   "metadata": {},
   "outputs": [],
   "source": [
    "df2.to_csv('RepoReport.csv')"
   ]
  },
  {
   "cell_type": "markdown",
   "id": "90de4581-bf0a-4f67-a3d0-4cb29732aebe",
   "metadata": {},
   "source": [
    "# Project End!!!!"
   ]
  }
 ],
 "metadata": {
  "kernelspec": {
   "display_name": "Python 3 (ipykernel)",
   "language": "python",
   "name": "python3"
  },
  "language_info": {
   "codemirror_mode": {
    "name": "ipython",
    "version": 3
   },
   "file_extension": ".py",
   "mimetype": "text/x-python",
   "name": "python",
   "nbconvert_exporter": "python",
   "pygments_lexer": "ipython3",
   "version": "3.13.1"
  }
 },
 "nbformat": 4,
 "nbformat_minor": 5
}
